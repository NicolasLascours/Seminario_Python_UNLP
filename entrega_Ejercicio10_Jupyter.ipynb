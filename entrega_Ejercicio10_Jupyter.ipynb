{
 "cells": [
  {
   "cell_type": "markdown",
   "metadata": {},
   "source": [
    "En primer lugar abro, en modo lectura, los archivos correspondientes:"
   ]
  },
  {
   "cell_type": "code",
   "execution_count": 1,
   "metadata": {},
   "outputs": [],
   "source": [
    "archivo1 = open('eval1.txt', 'r', encoding=\"utf8\")\n",
    "archivo2 = open('eval2.txt','r', encoding=\"utf8\")\n",
    "archivo_nombres = open ('nombres_1.txt', 'r', encoding=\"utf8\")"
   ]
  },
  {
   "cell_type": "markdown",
   "metadata": {},
   "source": [
    "Luego, defino funciones que me permiten \"limpiar\" los archivos de información innecesaria, para que queden disponibles para su manipulación."
   ]
  },
  {
   "cell_type": "code",
   "execution_count": 2,
   "metadata": {},
   "outputs": [],
   "source": [
    "def limpiar_archivos_de_notas(notas, lista_de_notas):\n",
    "    for elem in notas.readlines():\n",
    "        lista_de_notas.append(float(elem.replace(\",\", \"\").replace(\"\\n\", \"\").strip()))\n",
    "    return lista_de_notas\n",
    "\n",
    "def limpiar_archivos_de_nombres(nombres,lista_nueva_de_nombres):\n",
    "    for nom in nombres.readlines():\n",
    "        lista_nueva_de_nombres.append (nom.replace(\",\", \"\").replace(\"\\n\", \"\").replace(\"'\", \"\").strip())\n",
    "    return lista_nueva_de_nombres"
   ]
  },
  {
   "cell_type": "markdown",
   "metadata": {},
   "source": [
    "Las funciones anteriormente definidas serán invocadas en la siguiente, llamada 'limpiar_nombres_notas'. De las listas ingresadas por parámetro a la función, devuelve dos. Una correspondiente a los nombres y otra correspondiente a la sumatoria de las dos notas de cada alumno.\n",
    "Además, defino la función 'alumnos_debajo_del_promedio' que devuelve aquellos alumnos cuya nota total está por debajo de la nota promedio."
   ]
  },
  {
   "cell_type": "code",
   "execution_count": 3,
   "metadata": {},
   "outputs": [],
   "source": [
    "lista_nueva_de_nombres= []\n",
    "suma_notas = []\n",
    "\n",
    "def limpiar_nombres_notas (nombres, notas1, notas2,lista_nueva_de_nombres, suma_notas):\n",
    "    lista_nueva_de_notas1= []\n",
    "    lista_nueva_de_notas2= []\n",
    "    limpiar_archivos_de_nombres(nombres, lista_nueva_de_nombres)\n",
    "    limpiar_archivos_de_notas(notas1, lista_nueva_de_notas1)\n",
    "    limpiar_archivos_de_notas(notas2, lista_nueva_de_notas2)\n",
    "    for i in range(len(lista_nueva_de_notas1)):\n",
    "        suma_notas.append(lista_nueva_de_notas1[i] + lista_nueva_de_notas2[i])\n",
    "    return lista_nueva_de_nombres,suma_notas\n",
    "\n",
    "\n",
    "def alumnos_debajo_del_promedio(dicc):\n",
    "    print (\"los alumnos que están por debajo de la nota promedio son: \")\n",
    "    for key, value in dicc.items():\n",
    "        if value < promedio:\n",
    "           print (key)"
   ]
  },
  {
   "cell_type": "markdown",
   "metadata": {},
   "source": [
    "Creo un diccionario, con los nombres de los estudiantes y la suma de ambas notas:\n"
   ]
  },
  {
   "cell_type": "code",
   "execution_count": 4,
   "metadata": {},
   "outputs": [
    {
     "name": "stdout",
     "output_type": "stream",
     "text": [
      "{'Agustin': 111.0, 'Alan': 155.0, 'Andrés': 100.0, 'Ariadna': 108.0, 'Bautista': 99.0, 'CAROLINA': 134.0, 'CESAR': 78.0, 'David': 121.0, 'Diego': 33.0, 'Dolores': 53.0, 'DYLAN': 74.0, 'ELIANA': 13.0, 'Emanuel': 48.0, 'Fabián': 101.0, 'Facundo': 128.0, 'FEDERICO': 106.0, 'GONZALO': 76.0, 'Gregorio': 90.0, 'Ignacio': 21.0, 'Jonathan': 62.0, 'Jorge': 79.0, 'JOSE': 100.0, 'JUAN': 68.0, 'Juan': 112.0, 'Julian': 87.0, 'Julieta': 146.0, 'LAUTARO': 148.0, 'Leonel': 55.0, 'LUIS': 140.0, 'Luis': 109.0, 'Marcos': 103.0, 'María': 110.0, 'MATEO': 137.0, 'Matias': 114.0, 'Nicolás': 65.0, 'NICOLÁS': 22.0, 'Noelia': 105.0, 'Pablo': 99.0, 'Priscila': 24.0, 'TOMAS': 139.0, 'Tomás': 126.0, 'Ulises': 120.0, 'Yanina': 84.0}\n"
     ]
    }
   ],
   "source": [
    "limpiar_nombres_notas(archivo_nombres,archivo1,archivo2,lista_nueva_de_nombres, suma_notas)\n",
    "dicc_de_lista = dict(zip(lista_nueva_de_nombres, suma_notas))\n",
    "print(dicc_de_lista) "
   ]
  },
  {
   "cell_type": "markdown",
   "metadata": {},
   "source": [
    "Finalmente, calculo el promedio de las notas totales e informo los alumnos que obtuvieron una nota menor a la del promedio.\n"
   ]
  },
  {
   "cell_type": "code",
   "execution_count": 6,
   "metadata": {},
   "outputs": [
    {
     "name": "stdout",
     "output_type": "stream",
     "text": [
      "El promedio total es:  96.19148936170212\n",
      "los alumnos que están por debajo de la nota promedio son: \n",
      "CESAR\n",
      "Diego\n",
      "Dolores\n",
      "DYLAN\n",
      "ELIANA\n",
      "Emanuel\n",
      "GONZALO\n",
      "Gregorio\n",
      "Ignacio\n",
      "Jonathan\n",
      "Jorge\n",
      "JUAN\n",
      "Julian\n",
      "Leonel\n",
      "Nicolás\n",
      "NICOLÁS\n",
      "Priscila\n",
      "Yanina\n"
     ]
    }
   ],
   "source": [
    "promedio = sum(suma_notas)/len(suma_notas)\n",
    "print(\"El promedio total es: \", promedio) \n",
    "alumnos_debajo_del_promedio(dicc_de_lista)"
   ]
  }
 ],
 "metadata": {
  "interpreter": {
   "hash": "aecd030d4c8316a52bf122072e28f84bcc79844c2684e041fef2e3f1d9f59078"
  },
  "kernelspec": {
   "display_name": "Python 3.10.4 64-bit",
   "language": "python",
   "name": "python3"
  },
  "language_info": {
   "codemirror_mode": {
    "name": "ipython",
    "version": 3
   },
   "file_extension": ".py",
   "mimetype": "text/x-python",
   "name": "python",
   "nbconvert_exporter": "python",
   "pygments_lexer": "ipython3",
   "version": "3.10.4"
  },
  "orig_nbformat": 4
 },
 "nbformat": 4,
 "nbformat_minor": 2
}
